{
 "cells": [
  {
   "cell_type": "markdown",
   "metadata": {},
   "source": []
  },
  {
   "cell_type": "markdown",
   "metadata": {},
   "source": [
    "# Euclidean Rhythms"
   ]
  },
  {
   "cell_type": "markdown",
   "metadata": {},
   "source": [
    "Euclidean Rhythms were discovered in 2004 and first described in [this paper](http://cgm.cs.mcgill.ca/~godfried/publications/banff.pdf)\n",
    "First we're going to implement the bjorklund algorithm, during which we'll see how these sequences work and hopefully get some intuition as for why they are attractive musically. \n"
   ]
  },
  {
   "cell_type": "markdown",
   "metadata": {},
   "source": [
    "### Intuition \n",
    "Bjorklund sequences are binary sequences characteriezd by spacing that is as even as possible. \n",
    "\n",
    "This is a Bjorklund sequence:\n",
    "\n",
    "0 1 0 1 0 1 1\n",
    "\n",
    "This is not:\n",
    "\n",
    "0 0 0 1 1 1 1\n",
    "\n",
    "Individual Bjorklund sequences can be defined by three parameters:\n",
    "\n",
    "- the number of \"on\" elements in the sequence - *pulses*\n",
    "- the number of total elements in the sequence - *steps*\n",
    "- an optional third parameter - *rotation*\n",
    "\n",
    "Rotation is a little difficult to visualize when using linear sequential notation, but imagine a circular sequence like a clock where every third hour was \"on\". Expressed linearly, it would look like this:\n",
    "\n",
    "1 0 0 1 0 0 1 0 0 1 0 0\n",
    "\n",
    "And if you rotated all the \"on\"s one hour clockwise, it would look like this:\n",
    "\n",
    "0 1 0 0 1 0 0 1 0 0 1 0\n",
    "\n",
    "It's an identical sequence with a different rotation. Linearly, this is expressed by severing some of the end and tacking it onto the beginning. \n",
    "\n",
    "This is very musically relevant because the \"same\" sequences will sound very different rotated. In ethnomusicology, rhythms that are rotations of each other are said to be of the same \"rhythmic necklace\".\n",
    "\n",
    "The euclid.py module contains a function that generates bjorklund sequences, adapted from the [original paper's](https://ics-web.sns.ornl.gov/timing/Rep-Rate%20Tech%20Note.pdf) C code. If you're interested in how the algorithm works, there's a good intuitive description [here](http://cgm.cs.mcgill.ca/~godfried/publications/banff.pdf) and a full technical description in the paper. \n"
   ]
  },
  {
   "cell_type": "code",
   "execution_count": 7,
   "metadata": {},
   "outputs": [],
   "source": [
    "from euclid import bjorklund"
   ]
  },
  {
   "cell_type": "markdown",
   "metadata": {},
   "source": [
    "The bjorklund function takes two or three arguments: pulses, steps, and (optional) rotation. Pulses has to be less than steps or an error will be raised."
   ]
  },
  {
   "cell_type": "code",
   "execution_count": 8,
   "metadata": {},
   "outputs": [
    {
     "data": {
      "text/plain": [
       "[1, 0, 1, 0, 1]"
      ]
     },
     "execution_count": 8,
     "metadata": {},
     "output_type": "execute_result"
    }
   ],
   "source": [
    "bjorklund(3, 5)"
   ]
  },
  {
   "cell_type": "code",
   "execution_count": 9,
   "metadata": {},
   "outputs": [
    {
     "data": {
      "text/plain": [
       "[0, 1, 0, 1, 1]"
      ]
     },
     "execution_count": 9,
     "metadata": {},
     "output_type": "execute_result"
    }
   ],
   "source": [
    "bjorklund(3, 5, 1)"
   ]
  },
  {
   "cell_type": "code",
   "execution_count": 10,
   "metadata": {},
   "outputs": [
    {
     "data": {
      "text/plain": [
       "[1, 0, 1, 0, 1, 0, 1, 0]"
      ]
     },
     "execution_count": 10,
     "metadata": {},
     "output_type": "execute_result"
    }
   ],
   "source": [
    "bjorklund(4, 8)"
   ]
  },
  {
   "cell_type": "code",
   "execution_count": 18,
   "metadata": {},
   "outputs": [
    {
     "data": {
      "text/plain": [
       "[0, 1, 1, 0, 1, 1, 0, 1, 1, 0, 1, 1, 1, 0, 1, 1, 0, 1, 1, 0, 1, 1, 0, 1, 1]"
      ]
     },
     "execution_count": 18,
     "metadata": {},
     "output_type": "execute_result"
    }
   ],
   "source": [
    "bjorklund(17, 25, 13)"
   ]
  },
  {
   "cell_type": "code",
   "execution_count": null,
   "metadata": {},
   "outputs": [],
   "source": []
  }
 ],
 "metadata": {
  "kernelspec": {
   "display_name": "Python 3",
   "language": "python",
   "name": "python3"
  },
  "language_info": {
   "codemirror_mode": {
    "name": "ipython",
    "version": 3
   },
   "file_extension": ".py",
   "mimetype": "text/x-python",
   "name": "python",
   "nbconvert_exporter": "python",
   "pygments_lexer": "ipython3",
   "version": "3.6.1"
  }
 },
 "nbformat": 4,
 "nbformat_minor": 2
}
