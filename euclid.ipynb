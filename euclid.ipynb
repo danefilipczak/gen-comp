{
 "cells": [
  {
   "cell_type": "markdown",
   "metadata": {},
   "source": []
  },
  {
   "cell_type": "markdown",
   "metadata": {},
   "source": [
    "# Euclidean Rhythms"
   ]
  },
  {
   "cell_type": "markdown",
   "metadata": {},
   "source": [
    "Euclidean Rhythms were discovered in 2004 and first described in [this paper](http://cgm.cs.mcgill.ca/~godfried/publications/banff.pdf)\n",
    "First we're going to implement the bjorklund algorithm, during which we'll see how these sequences work and hopefully get some intuition as for why they are attractive musically. \n"
   ]
  },
  {
   "cell_type": "markdown",
   "metadata": {},
   "source": [
    "### Intuition \n",
    "Bjorklund sequences are binary sequences characteriezd by spacing that is as even as possible. \n",
    "\n",
    "This is a Bjorklund sequence:\n",
    "\n",
    "0 1 0 1 0 1 1\n",
    "\n",
    "This is not:\n",
    "\n",
    "0 0 0 1 1 1 1\n",
    "\n",
    "Individual Bjorklund sequences can be defined by three parameters:\n",
    "\n",
    "- the number of \"on\" elements in the sequence - *pulses*\n",
    "- the number of total elements in the sequence - *steps*\n",
    "- an optional third parameter - *rotation*\n",
    "\n",
    "Rotation is a little difficult to visualize when using linear sequential notation, but imagine a circular sequence like a clock where every third hour was \"on\". Expressed linearly, it would look like this:\n",
    "\n",
    "1 0 0 1 0 0 1 0 0 1 0 0\n",
    "\n",
    "And if you rotated all the \"on\"s one hour clockwise, it would look like this:\n",
    "\n",
    "0 1 0 0 1 0 0 1 0 0 1 0\n",
    "\n",
    "It's an identical sequence with a different rotation. Linearly, this is expressed by severing some of the end and tacking it onto the beginning. \n",
    "\n",
    "This is very musically relevant because the \"same\" sequences will sound very different rotated. In ethnomusicology, rhythms that are rotations of each other are said to be of the same \"rhythmic necklace\".\n",
    "\n",
    "The euclid.py module contains a function that generates bjorklund sequences, adapted from the [original paper's](https://ics-web.sns.ornl.gov/timing/Rep-Rate%20Tech%20Note.pdf) C code. If you're interested in how the algorithm works, there's a good intuitive description [here](http://cgm.cs.mcgill.ca/~godfried/publications/banff.pdf) and a full technical description in the paper. \n"
   ]
  },
  {
   "cell_type": "code",
   "execution_count": 7,
   "metadata": {},
   "outputs": [],
   "source": [
    "from euclid import bjorklund"
   ]
  },
  {
   "cell_type": "markdown",
   "metadata": {},
   "source": [
    "The bjorklund function takes two or three arguments: pulses, steps, and (optional) rotation. Pulses has to be less than steps or an error will be raised."
   ]
  },
  {
   "cell_type": "code",
   "execution_count": 8,
   "metadata": {},
   "outputs": [
    {
     "data": {
      "text/plain": [
       "[1, 0, 1, 0, 1]"
      ]
     },
     "execution_count": 8,
     "metadata": {},
     "output_type": "execute_result"
    }
   ],
   "source": [
    "bjorklund(3, 5)"
   ]
  },
  {
   "cell_type": "code",
   "execution_count": 9,
   "metadata": {},
   "outputs": [
    {
     "data": {
      "text/plain": [
       "[0, 1, 0, 1, 1]"
      ]
     },
     "execution_count": 9,
     "metadata": {},
     "output_type": "execute_result"
    }
   ],
   "source": [
    "bjorklund(3, 5, 1)"
   ]
  },
  {
   "cell_type": "code",
   "execution_count": 10,
   "metadata": {},
   "outputs": [
    {
     "data": {
      "text/plain": [
       "[1, 0, 1, 0, 1, 0, 1, 0]"
      ]
     },
     "execution_count": 10,
     "metadata": {},
     "output_type": "execute_result"
    }
   ],
   "source": [
    "bjorklund(4, 8)"
   ]
  },
  {
   "cell_type": "code",
   "execution_count": 18,
   "metadata": {},
   "outputs": [
    {
     "data": {
      "text/plain": [
       "[0, 1, 1, 0, 1, 1, 0, 1, 1, 0, 1, 1, 1, 0, 1, 1, 0, 1, 1, 0, 1, 1, 0, 1, 1]"
      ]
     },
     "execution_count": 18,
     "metadata": {},
     "output_type": "execute_result"
    }
   ],
   "source": [
    "bjorklund(17, 25, 13)"
   ]
  },
  {
   "cell_type": "markdown",
   "metadata": {},
   "source": [
    "One approach to applying these binary sequences to music21 streams is to \"slice\" the stream at offsets specified by the bjorklund sequence. To show how this can work, we'll start with a simple whole note."
   ]
  },
  {
   "cell_type": "code",
   "execution_count": 31,
   "metadata": {},
   "outputs": [
    {
     "data": {
      "image/png": "[encoded data removed]",
      "text/plain": [
       "<IPython.core.display.Image object>"
      ]
     },
     "metadata": {
      "image/png": {
       "height": 49,
       "width": 159
      }
     },
     "output_type": "display_data"
    }
   ],
   "source": [
    "import music21\n",
    "stream = music21.stream.Stream()\n",
    "note= music21.note.Note()\n",
    "note.quarterLength=4\n",
    "stream.append(note)\n",
    "stream.show()"
   ]
  },
  {
   "cell_type": "markdown",
   "metadata": {},
   "source": [
    "The first thing we'll need to do is to produce a binary sequence using our bjorklund function. Then we'll need to convert the binary sequence into a list of durations that specifies the onset of the pulse. The most pervasive unit of time in which music21 deals with duration is the quarterLength, so we're shooting for a list of onets specified in quarterLengths. "
   ]
  },
  {
   "cell_type": "code",
   "execution_count": 55,
   "metadata": {},
   "outputs": [
    {
     "name": "stdout",
     "output_type": "stream",
     "text": [
      "[1, 0, 1, 0, 1, 0, 1]\n"
     ]
    }
   ],
   "source": [
    "euclidBinary = bjorklund(4, 7, 0)\n",
    "print(euclidBinary)"
   ]
  },
  {
   "cell_type": "code",
   "execution_count": 56,
   "metadata": {},
   "outputs": [
    {
     "name": "stdout",
     "output_type": "stream",
     "text": [
      "[0.0, 1.1428571428571428, 2.2857142857142856, 3.4285714285714284]\n"
     ]
    }
   ],
   "source": [
    "euclidQuarterLengths = []\n",
    "for i in range(0, len(euclidBinary)):\n",
    "        if euclidBinary[i] == 1:\n",
    "            euclidQuarterLengths.append((stream.duration.quarterLength/len(euclidBinary))*i)\n",
    "\n",
    "print(euclidQuarterLengths)"
   ]
  },
  {
   "cell_type": "code",
   "execution_count": 57,
   "metadata": {},
   "outputs": [
    {
     "data": {
      "image/png": "[encoded data removed]",
      "text/plain": [
       "<IPython.core.display.Image object>"
      ]
     },
     "metadata": {
      "image/png": {
       "height": 54,
       "width": 251
      }
     },
     "output_type": "display_data"
    }
   ],
   "source": [
    "stream.sliceAtOffsets(euclidQuarterLengths, addTies=False).show()"
   ]
  },
  {
   "cell_type": "markdown",
   "metadata": {},
   "source": [
    "Now, this produced some pretty legible output. Note, however, that there are many situations when using the \"slice at offsets\" technique can lead to some very illegible notation. This isn't neccisarily a bad thing all of the time... especially if you only care about obtaining midi output for a sequencer, in which case the notational legibility isn't concerning. Let's try for another method that makes something a little nicer. "
   ]
  },
  {
   "cell_type": "code",
   "execution_count": 106,
   "metadata": {},
   "outputs": [],
   "source": [
    "stream2 = music21.stream.Stream()"
   ]
  },
  {
   "cell_type": "code",
   "execution_count": 107,
   "metadata": {},
   "outputs": [],
   "source": [
    "targetLength = 8"
   ]
  },
  {
   "cell_type": "code",
   "execution_count": 108,
   "metadata": {},
   "outputs": [
    {
     "name": "stdout",
     "output_type": "stream",
     "text": [
      "[0, 1, 1, 1, 1, 1, 1, 1, 0, 1, 1, 1, 1, 1, 1, 1, 0, 1, 1, 1, 1, 1, 1, 1]\n"
     ]
    }
   ],
   "source": [
    "euclidBinary = bjorklund(21, 24, 0)\n",
    "print(euclidBinary)"
   ]
  },
  {
   "cell_type": "code",
   "execution_count": 109,
   "metadata": {},
   "outputs": [],
   "source": [
    "step = targetLength/len(euclidBinary)\n",
    "for i in range(0, len(euclidBinary)):\n",
    "        if euclidBinary[i] == 1:\n",
    "            note = music21.note.Note()\n",
    "            note.duration.quarterLength=step\n",
    "            stream2.append(note)\n",
    "        else:\n",
    "            rest = music21.note.Rest()\n",
    "            rest.duration.quarterLength=step\n",
    "            stream2.append(rest)"
   ]
  },
  {
   "cell_type": "code",
   "execution_count": 110,
   "metadata": {},
   "outputs": [
    {
     "data": {
      "image/png": "[encoded data removed]",
      "text/plain": [
       "<IPython.core.display.Image object>"
      ]
     },
     "metadata": {
      "image/png": {
       "height": 54,
       "width": 748
      }
     },
     "output_type": "display_data"
    }
   ],
   "source": [
    "stream2.show()"
   ]
  },
  {
   "cell_type": "code",
   "execution_count": null,
   "metadata": {},
   "outputs": [],
   "source": []
  }
 ],
 "metadata": {
  "kernelspec": {
   "display_name": "Python 3",
   "language": "python",
   "name": "python3"
  },
  "language_info": {
   "codemirror_mode": {
    "name": "ipython",
    "version": 3
   },
   "file_extension": ".py",
   "mimetype": "text/x-python",
   "name": "python",
   "nbconvert_exporter": "python",
   "pygments_lexer": "ipython3",
   "version": "3.6.1"
  }
 },
 "nbformat": 4,
 "nbformat_minor": 2
}
