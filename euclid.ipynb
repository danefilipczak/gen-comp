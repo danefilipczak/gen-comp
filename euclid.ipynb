{
 "cells": [
  {
   "cell_type": "markdown",
   "metadata": {},
   "source": []
  },
  {
   "cell_type": "markdown",
   "metadata": {},
   "source": [
    "# Euclidean Rhythms"
   ]
  },
  {
   "cell_type": "markdown",
   "metadata": {},
   "source": [
    "Euclidean Rhythms were discovered in 2004 and first described in [this paper](http://cgm.cs.mcgill.ca/~godfried/publications/banff.pdf)\n",
    "First we're going to implement the bjorklund algorithm, during which we'll see how these sequences work and hopefully get some intuition as for why they are attractive musically. \n",
    "If you don't care about the algorithm and just want to see its application in music21, jump ahead to \n",
    "[this section](#application)"
   ]
  },
  {
   "cell_type": "markdown",
   "metadata": {},
   "source": [
    "### Intuition \n",
    "Bjorklund sequences are binary sequences characteriezd by spacing that is as even as possible. \n",
    "\n",
    "This is a Bjorklund sequence:\n",
    "\n",
    "0 1 0 1 0 1 1\n",
    "\n",
    "This is not:\n",
    "\n",
    "0 0 0 1 1 1 1\n",
    "\n",
    "Individual Bjorklund sequences can be defined by three parameters:\n",
    "\n",
    "- the number of total elements in the sequence - *steps*\n",
    "- the number of \"on\" elements in the sequence - *pulses*\n",
    "- an optional third parameter - *rotation*\n",
    "\n",
    "Rotation is a little difficult to visualize when using linear sequential notation, but imagine a circular sequence like a clock where every third hour was \"on\". Expressed linearly, it would look like this:\n",
    "\n",
    "1 0 0 1 0 0 1 0 0 1 0 0\n",
    "\n",
    "And if you rotated all the \"on\"s one hour clockwise, it would look like this:\n",
    "\n",
    "0 1 0 0 1 0 0 1 0 0 1 0\n",
    "\n",
    "It's an identical sequence with a different rotation. Linearly, this is expressed by severing some of the end and tacking it onto the beginning. \n",
    "\n",
    "This is very musically relevant because the \"same\" sequences will sound very different rotated. In ethnomusicology, rhythms that are rotations of each other are said to be of the same \"rhythmic necklace\"\n",
    "\n",
    "\n",
    "\n"
   ]
  },
  {
   "cell_type": "markdown",
   "metadata": {},
   "source": [
    "## The Algorithm"
   ]
  },
  {
   "cell_type": "code",
   "execution_count": null,
   "metadata": {},
   "outputs": [],
   "source": []
  },
  {
   "cell_type": "markdown",
   "metadata": {},
   "source": [
    "## Bringing in Music21\n",
    "<a id=\"application\">"
   ]
  },
  {
   "cell_type": "code",
   "execution_count": null,
   "metadata": {},
   "outputs": [],
   "source": []
  }
 ],
 "metadata": {
  "kernelspec": {
   "display_name": "Python 3",
   "language": "python",
   "name": "python3"
  },
  "language_info": {
   "codemirror_mode": {
    "name": "ipython",
    "version": 3
   },
   "file_extension": ".py",
   "mimetype": "text/x-python",
   "name": "python",
   "nbconvert_exporter": "python",
   "pygments_lexer": "ipython3",
   "version": "3.6.1"
  }
 },
 "nbformat": 4,
 "nbformat_minor": 2
}
